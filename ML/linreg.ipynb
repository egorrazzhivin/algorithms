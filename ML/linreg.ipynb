{
 "cells": [
  {
   "cell_type": "markdown",
   "id": "5f8d0400-a7a4-493e-a35b-60d2e8816745",
   "metadata": {},
   "source": [
    "StandardScaler & LinearRegression realization"
   ]
  },
  {
   "cell_type": "code",
   "execution_count": 3,
   "id": "e763a7e5-4c1f-412f-9d44-46c423b71a06",
   "metadata": {},
   "outputs": [],
   "source": [
    "class standardscaler:\n",
    "    \n",
    "    def fit(self, X: np.array):\n",
    "\n",
    "        mu = X.mean(axis=0)\n",
    "        sigma = X.std(axis=0)\n",
    "        return mu, sigma\n",
    "    \n",
    "        assert False, 'not implemented'\n",
    "    \n",
    "    def transform(self, X: np.array) -> np.array:\n",
    "        mu, sigma = self.fit(X)\n",
    "        return (X-mu)/sigma\n",
    "    \n",
    "        assert False, 'not implemented'\n",
    "        \n",
    "ss = standardscaler()\n",
    "\n",
    "class linreg:\n",
    "    \n",
    "    def fit(self, X_train, y_train):\n",
    "        #if our features aren't correlated then optimal \n",
    "        #weights are w = np.linalg.inv(X.T.dot(X)).dot(X.T).dot(Y)\n",
    "        weights = np.linalg.inv(X_train.T.dot(X_train)).dot(X_train.T).dot(y_train)\n",
    "        return weights\n",
    "    \n",
    "        assert False, 'not implemented'\n",
    "    \n",
    "    def predict(self, X_test):\n",
    "        weights = self.fit(X_train, y_train)\n",
    "        return X_test.dot(weights)\n",
    "    \n",
    "        assert False, 'not implemented'\n",
    "        \n",
    "model = linreg()"
   ]
  },
  {
   "cell_type": "code",
   "execution_count": null,
   "id": "247329bb-f587-4ebc-8e03-d083a47bd99d",
   "metadata": {},
   "outputs": [],
   "source": []
  }
 ],
 "metadata": {
  "kernelspec": {
   "display_name": "Python 3 (ipykernel)",
   "language": "python",
   "name": "python3"
  },
  "language_info": {
   "codemirror_mode": {
    "name": "ipython",
    "version": 3
   },
   "file_extension": ".py",
   "mimetype": "text/x-python",
   "name": "python",
   "nbconvert_exporter": "python",
   "pygments_lexer": "ipython3",
   "version": "3.9.12"
  }
 },
 "nbformat": 4,
 "nbformat_minor": 5
}
