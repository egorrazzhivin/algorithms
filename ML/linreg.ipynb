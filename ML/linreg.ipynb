class standardscaler:
    
    def fit(self, X: np.array):

        mu = X.mean(axis=0)
        sigma = X.std(axis=0)
        return mu, sigma
    
        assert False, 'not implemented'
    
    def transform(self, X: np.array) -> np.array:
        mu, sigma = self.fit(X)
        return (X-mu)/sigma
    
        assert False, 'not implemented'
        
ss = standardscaler()

class linreg:
    
    def fit(self, X_train, y_train):
        #if our features aren't correlated then optimal 
        #weights are w = np.linalg.inv(X.T.dot(X)).dot(X.T).dot(Y)
        weights = np.linalg.inv(X_train.T.dot(X_train)).dot(X_train.T).dot(y_train)
        return weights
    
        assert False, 'not implemented'
    
    def predict(self, X_test):
        weights = self.fit(X_train, y_train)
        return X_test.dot(weights)
    
        assert False, 'not implemented'
        
model = linreg()
