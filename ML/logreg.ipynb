{
 "cells": [
  {
   "cell_type": "code",
   "execution_count": 11,
   "id": "317884bf-edfe-49fd-a18b-fcf50f28714a",
   "metadata": {},
   "outputs": [],
   "source": [
    "import numpy as np"
   ]
  },
  {
   "cell_type": "code",
   "execution_count": 1,
   "id": "ac762cc7-06e5-40ca-b6dc-9207b589cf18",
   "metadata": {},
   "outputs": [
    {
     "ename": "NameError",
     "evalue": "name 'np' is not defined",
     "output_type": "error",
     "traceback": [
      "\u001b[1;31m---------------------------------------------------------------------------\u001b[0m",
      "\u001b[1;31mNameError\u001b[0m                                 Traceback (most recent call last)",
      "Input \u001b[1;32mIn [1]\u001b[0m, in \u001b[0;36m<cell line: 1>\u001b[1;34m()\u001b[0m\n\u001b[1;32m----> 1\u001b[0m \u001b[38;5;28;01mclass\u001b[39;00m \u001b[38;5;21;01mlogreg\u001b[39;00m:\n\u001b[0;32m      2\u001b[0m     \u001b[38;5;28;01mdef\u001b[39;00m \u001b[38;5;21m__init__\u001b[39m(\u001b[38;5;28mself\u001b[39m, gd_type: \u001b[38;5;28mstr\u001b[39m \u001b[38;5;241m=\u001b[39m \u001b[38;5;124m'\u001b[39m\u001b[38;5;124mfull\u001b[39m\u001b[38;5;124m'\u001b[39m, tolerance: \u001b[38;5;28mfloat\u001b[39m \u001b[38;5;241m=\u001b[39m \u001b[38;5;241m1e-4\u001b[39m, \n\u001b[0;32m      3\u001b[0m                  max_iter: \u001b[38;5;28mint\u001b[39m \u001b[38;5;241m=\u001b[39m \u001b[38;5;241m10000\u001b[39m, eta: \u001b[38;5;28mfloat\u001b[39m \u001b[38;5;241m=\u001b[39m \u001b[38;5;241m1e-2\u001b[39m) \u001b[38;5;241m-\u001b[39m\u001b[38;5;241m>\u001b[39m \u001b[38;5;28;01mNone\u001b[39;00m:\n\u001b[0;32m      4\u001b[0m         \u001b[38;5;124;03m\"\"\"\u001b[39;00m\n\u001b[0;32m      5\u001b[0m \u001b[38;5;124;03m          gd_type: type of gradient descent ('full'/'stochastic')\u001b[39;00m\n\u001b[0;32m      6\u001b[0m \u001b[38;5;124;03m          tolerance: threshold for stopping gradient descent\u001b[39;00m\n\u001b[0;32m      7\u001b[0m \u001b[38;5;124;03m          max_iter: maximum number of steps in gradient descent\u001b[39;00m\n\u001b[0;32m      8\u001b[0m \u001b[38;5;124;03m          eta: learning rate\u001b[39;00m\n\u001b[0;32m      9\u001b[0m \u001b[38;5;124;03m        \"\"\"\u001b[39;00m\n",
      "Input \u001b[1;32mIn [1]\u001b[0m, in \u001b[0;36mlogreg\u001b[1;34m()\u001b[0m\n\u001b[0;32m     15\u001b[0m     \u001b[38;5;28mself\u001b[39m\u001b[38;5;241m.\u001b[39mloss_history \u001b[38;5;241m=\u001b[39m \u001b[38;5;28;01mNone\u001b[39;00m \n\u001b[0;32m     16\u001b[0m     \u001b[38;5;28mself\u001b[39m\u001b[38;5;241m.\u001b[39mcur_iter \u001b[38;5;241m=\u001b[39m \u001b[38;5;241m0\u001b[39m \u001b[38;5;66;03m#current number of iterations\u001b[39;00m\n\u001b[1;32m---> 18\u001b[0m \u001b[38;5;28;01mdef\u001b[39;00m \u001b[38;5;21mfit\u001b[39m(\u001b[38;5;28mself\u001b[39m, X: \u001b[43mnp\u001b[49m\u001b[38;5;241m.\u001b[39marray, y: np\u001b[38;5;241m.\u001b[39marray) \u001b[38;5;241m-\u001b[39m\u001b[38;5;241m>\u001b[39m \u001b[38;5;28;01mNone\u001b[39;00m:\n\u001b[0;32m     19\u001b[0m     \u001b[38;5;66;03m#fit the model on training data and save loss value after each iteration.\u001b[39;00m\n\u001b[0;32m     20\u001b[0m     y \u001b[38;5;241m=\u001b[39m y\u001b[38;5;241m.\u001b[39mreshape(\u001b[38;5;241m-\u001b[39m\u001b[38;5;241m1\u001b[39m, \u001b[38;5;241m1\u001b[39m)\n\u001b[0;32m     21\u001b[0m     \u001b[38;5;28mself\u001b[39m\u001b[38;5;241m.\u001b[39mloss_history \u001b[38;5;241m=\u001b[39m []\n",
      "\u001b[1;31mNameError\u001b[0m: name 'np' is not defined"
     ]
    }
   ],
   "source": [
    "class logreg:\n",
    "    def __init__(self, gd_type: str = 'full', tolerance: float = 1e-4, \n",
    "                 max_iter: int = 10000, eta: float = 1e-2) -> None:\n",
    "        \"\"\"\n",
    "          gd_type: type of gradient descent ('full'/'stochastic')\n",
    "          tolerance: threshold for stopping gradient descent\n",
    "          max_iter: maximum number of steps in gradient descent\n",
    "          eta: learning rate\n",
    "        \"\"\"\n",
    "        self.gd_type = gd_type\n",
    "        self.tolerance = tolerance\n",
    "        self.max_iter = max_iter\n",
    "        self.eta = eta\n",
    "        self.w = None\n",
    "        self.loss_history = None \n",
    "        self.cur_iter = 0 #current number of iterations\n",
    "        \n",
    "    def fit(self, X: np.array, y: np.array) -> None:\n",
    "        #fit the model on training data and save loss value after each iteration.\n",
    "        y = y.reshape(-1, 1)\n",
    "        self.loss_history = []\n",
    "        self.w = np.array([1.0]*X.shape[1]) #initialization of weights\n",
    "        self.w = self.w.reshape(-1, 1)\n",
    "        while self.cur_iter <= self.max_iter:\n",
    "            gradient = self.calc_gradient(X, y)\n",
    "            a1 = np.sum(self.w*self.w) #euclidean norm before step\n",
    "            self.w -= self.eta * gradient\n",
    "            a2 = np.sum(self.w*self.w) #euclidean norm after step\n",
    "            loss = self.calc_loss(X, y)\n",
    "            self.loss_history.append([loss, self.cur_iter])\n",
    "            self.cur_iter += 1\n",
    "            \n",
    "            if abs(a1-a2)<=self.tolerance:\n",
    "              break\n",
    "    \n",
    "    def predict_proba(self, X: np.array) -> np.array:\n",
    "        #calculate probability of positive and negative class for each observation\n",
    "        if self.w is None:\n",
    "            raise Exception('not trained yet')\n",
    "        a = 1/(1+np.exp(X @ self.w)) #first column\n",
    "        b = 1/(1+np.exp(-X @ self.w)) #2nd\n",
    "        a = pd.DataFrame(a)\n",
    "        b = pd.DataFrame(b)\n",
    "        a = a.rename(columns={0:'false'})\n",
    "        b = b.rename(columns={0:'true'})\n",
    "        res = pd.concat([a,b], axis=1)\n",
    "        return res\n",
    "    \n",
    "    def predict(self, X: np.array) -> np.array:\n",
    "        #predict class for each observation\n",
    "        if self.w is None:\n",
    "            raise Exception('not trained yet')\n",
    "        a = 1/(1+np.exp(X @ self.w))\n",
    "        a = np.around(a)\n",
    "        return pd.DataFrame(a)\n",
    "    \n",
    "    def calc_gradient(self, X: np.array, y: np.array) -> np.array:\n",
    "        #alculate gradient of loss function after each iteration\n",
    "        y = y.reshape(-1, 1)\n",
    "        if self.gd_type == 'stochastic':\n",
    "            rrr = random.choice(np.arange(X.shape[0]))\n",
    "            grad = X[rrr].T @ (1/(1+np.exp(-X[rrr] @ self.w)) - y[rrr])/X.shape[0]\n",
    "        elif self.gd_type == 'full':\n",
    "            grad = X.T @ (1/(1+np.exp(-X @ self.w)) - y)/X.shape[0]\n",
    "        return grad\n",
    "    \n",
    "    def calc_loss(self, X: np.array, y: np.array) -> float:\n",
    "        #calculate value of loss function after each iteration\n",
    "        y = y.reshape(-1, 1)\n",
    "        return -(1/X.shape[0])*(np.sum(y*(np.log(1/(1+np.exp(X @ self.w)))) + (1-y)*np.log(1/(1+np.exp(X @ self.w)))))\n",
    "    \n",
    "    def graph_loss(self):\n",
    "        #draw total loss\n",
    "        df = pd.DataFrame(self.loss_history)\n",
    "        plt.figure(figsize=(16, 7))\n",
    "        plt.plot(df.loc[:][1], df.loc[:][0])\n",
    "        plt.title('log loss (number of steps)')\n",
    "        plt.show()\n",
    "    "
   ]
  },
  {
   "cell_type": "code",
   "execution_count": null,
   "id": "30f253b7-d042-4efb-89ab-90742fcc2a1c",
   "metadata": {},
   "outputs": [],
   "source": []
  },
  {
   "cell_type": "code",
   "execution_count": null,
   "id": "ebe5f0d1-0ec9-4886-ba50-a27bc028d31a",
   "metadata": {},
   "outputs": [],
   "source": []
  },
  {
   "cell_type": "code",
   "execution_count": null,
   "id": "f3f23a23-f3ac-4a9f-baa0-7aff4fdc26e9",
   "metadata": {},
   "outputs": [],
   "source": []
  },
  {
   "cell_type": "code",
   "execution_count": null,
   "id": "868c30c4-15ff-4004-971e-562b2b8f5bf6",
   "metadata": {},
   "outputs": [],
   "source": []
  }
 ],
 "metadata": {
  "kernelspec": {
   "display_name": "Python 3 (ipykernel)",
   "language": "python",
   "name": "python3"
  },
  "language_info": {
   "codemirror_mode": {
    "name": "ipython",
    "version": 3
   },
   "file_extension": ".py",
   "mimetype": "text/x-python",
   "name": "python",
   "nbconvert_exporter": "python",
   "pygments_lexer": "ipython3",
   "version": "3.9.12"
  }
 },
 "nbformat": 4,
 "nbformat_minor": 5
}
